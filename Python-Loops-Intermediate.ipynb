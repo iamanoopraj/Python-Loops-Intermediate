{
 "cells": [
  {
   "cell_type": "markdown",
   "id": "a7ccff03-3268-43a6-926c-ef1f5fe22866",
   "metadata": {},
   "source": [
    "# Assignment 2"
   ]
  },
  {
   "cell_type": "markdown",
   "id": "fb37e383-83d4-4386-9849-577ccf4940ee",
   "metadata": {},
   "source": [
    "# 1. Given below is a list of fruits. Create a dictionary which hasthe fruit name as key and the count of fruit as value.\n",
    " [\"apple\", \"banana\", \"orange\", \"apple\", \"kiwi\", \"banana\",\n",
    " \"grape\", \"orange\", \"mango\", \"apple\"]\n",
    "\n",
    " For example, if fruits is a list:\n",
    " fruits = ['apple','kiwi','apple','kiwi','banana']\n",
    " \n",
    " #The the final result should be :\n",
    " {'apple':2,'kiwi':2','banana':1}"
   ]
  },
  {
   "cell_type": "code",
   "execution_count": 5,
   "id": "d557ddef-cd51-4d41-b195-9319acac1894",
   "metadata": {},
   "outputs": [],
   "source": [
    "fruits = [\"apple\", \"banana\", \"orange\", \"apple\", \"kiwi\", \"banana\", \"grape\", \"orange\", \"mango\", \"apple\"]"
   ]
  },
  {
   "cell_type": "code",
   "execution_count": 6,
   "id": "dffd56f4-0c0e-4fa7-aa77-338cf61c64fc",
   "metadata": {},
   "outputs": [],
   "source": [
    "fruits_counts = {}"
   ]
  },
  {
   "cell_type": "code",
   "execution_count": 19,
   "id": "866ad153-9bed-472d-9526-ed40c22d80b7",
   "metadata": {},
   "outputs": [],
   "source": [
    "for fruit in fruits:\n",
    "    if fruit in fruits_counts:\n",
    "        fruit_counts[fruit] += 1\n",
    "    else:\n",
    "        fruit_counts[fruit] = 1"
   ]
  },
  {
   "cell_type": "code",
   "execution_count": 9,
   "id": "95bf90cd-310a-4213-a308-d6a63da4f09f",
   "metadata": {},
   "outputs": [
    {
     "name": "stdout",
     "output_type": "stream",
     "text": [
      "{'apple': 1, 'banana': 1, 'orange': 1, 'kiwi': 1, 'grape': 1, 'mango': 1}\n"
     ]
    }
   ],
   "source": [
    "print(fruit_counts)"
   ]
  },
  {
   "cell_type": "markdown",
   "id": "4f4834f2-f9c5-4e2c-874e-1531268b6b4a",
   "metadata": {},
   "source": [
    "## 2. Given below is a list of some state names, and the list is uncleaned.\n",
    " \n",
    " Create a new list with the name “raajya”and filter out the state\r\n",
    " names from the given list and add the state in the raajya list,\r\n",
    " making sure there is no repetitio\n",
    " n.\r\n",
    " [' ', 'Sikkim', ' ', 'Tripura', 'Mizoram', 'Nagaland', ' ',\r\n",
    " '', ' ', '', 'Haryana', ' ', '', 'Meghalaya', 'Andhra\r\n",
    " Pradesh', ' ', 'Meghalaya', ' ', ' ', '', ' ', '',\r\n",
    " 'Maharashtra', 'Mizoram', 'Sikkim', '', 'Punjab',\r\n",
    " 'Uttarakhand', 'Uttarakhand', ' '] "
   ]
  },
  {
   "cell_type": "code",
   "execution_count": 11,
   "id": "2a8a7fa4-931d-4532-b39d-f2419899eeae",
   "metadata": {},
   "outputs": [],
   "source": [
    "original_list = [' ', 'Sikkim', ' ', 'Tripura', 'Mizoram', 'Nagaland', ' ', '', ' ', '', 'Haryana', ' ', '', 'Meghalaya', 'Andhra Pradesh',\n",
    "                ' ','Meghalaya', ' ', ' ', '', ' ', '', 'Maharashtra', 'Mizoram', 'Sikkim', '', 'Punjab', 'Uttarakhand', 'Uttarakhand',\n",
    "                 ' ']"
   ]
  },
  {
   "cell_type": "code",
   "execution_count": 12,
   "id": "1100d548-76e5-4d44-976c-47aa38cceea2",
   "metadata": {},
   "outputs": [],
   "source": [
    "unique_states = set()"
   ]
  },
  {
   "cell_type": "code",
   "execution_count": 13,
   "id": "47ad5190-9500-4396-b7b9-a53439a1fba4",
   "metadata": {},
   "outputs": [],
   "source": [
    "for state in original_list:\n",
    "    cleaned_state = state.strip()\n",
    "    if cleaned_state:\n",
    "        unique_states.add(cleaned_state)"
   ]
  },
  {
   "cell_type": "code",
   "execution_count": 17,
   "id": "446faad5-5a4d-4467-8063-60c222cd893e",
   "metadata": {},
   "outputs": [],
   "source": [
    "raajya = list(unique_states)"
   ]
  },
  {
   "cell_type": "code",
   "execution_count": 18,
   "id": "f11a5e82-cf58-4b00-a873-a917b34db6b9",
   "metadata": {},
   "outputs": [
    {
     "name": "stdout",
     "output_type": "stream",
     "text": [
      "['Haryana', 'Tripura', 'Maharashtra', 'Uttarakhand', 'Mizoram', 'Punjab', 'Andhra Pradesh', 'Sikkim', 'Nagaland', 'Meghalaya']\n"
     ]
    }
   ],
   "source": [
    "print(raajya)"
   ]
  },
  {
   "cell_type": "markdown",
   "id": "c026e387-dd9d-4971-acad-1a3a3a2356ad",
   "metadata": {},
   "source": [
    "## 3. Working with the above list, this time, replace all the blank and empty string values with 0 (zero).\n",
    "[' ', 'Sikkim', ' ', 'Tripura', 'Mizoram', 'Nagaland', ' ',\n",
    " '', ' ', '', 'Haryana', ' ', '', 'Meghalaya', 'Andhra\n",
    " Pradesh', ' ', 'Meghalaya', ' ', ' ', '', ' ', '',\n",
    " 'Maharashtra', 'Mizoram', 'Sikkim', '', 'Punjab',\n",
    " 'Uttarakhand', 'Uttarakhand', ' ']\n",
    "  \n"
   ]
  },
  {
   "cell_type": "code",
   "execution_count": 27,
   "id": "7a9537d9-034f-4b43-b2a3-21fca1881bb6",
   "metadata": {},
   "outputs": [],
   "source": [
    "original_list = [' ', 'Sikkim', ' ', 'Tripura', 'Mizoram', 'Nagaland', ' ', '', ' ', '', 'Haryana', ' ', '', 'Meghalaya', 'Andhra Pradesh',\n",
    "                ' ','Meghalaya', ' ', ' ', '', ' ', '', 'Maharashtra', 'Mizoram', 'Sikkim', '', 'Punjab', 'Uttarakhand', 'Uttarakhand',\n",
    "                 ' ']"
   ]
  },
  {
   "cell_type": "code",
   "execution_count": 28,
   "id": "f79a274c-e0ab-438d-bda0-4fb8b446972a",
   "metadata": {},
   "outputs": [],
   "source": [
    "updated_list = [0 if item.strip() == '' else item for item in original_list]"
   ]
  },
  {
   "cell_type": "code",
   "execution_count": 29,
   "id": "34b70b13-a5d8-4dc3-b9bf-faa46924f3c9",
   "metadata": {},
   "outputs": [
    {
     "name": "stdout",
     "output_type": "stream",
     "text": [
      "[0, 'Sikkim', 0, 'Tripura', 'Mizoram', 'Nagaland', 0, 0, 0, 0, 'Haryana', 0, 0, 'Meghalaya', 'Andhra Pradesh', 0, 'Meghalaya', 0, 0, 0, 0, 0, 'Maharashtra', 'Mizoram', 'Sikkim', 0, 'Punjab', 'Uttarakhand', 'Uttarakhand', 0]\n"
     ]
    }
   ],
   "source": [
    "print(updated_list)"
   ]
  },
  {
   "cell_type": "markdown",
   "id": "3bcbcda1-c069-474a-afd3-57806eb2b9e3",
   "metadata": {},
   "source": [
    "## 4.Below is a list of dictionaries of some student records. While  creating the record for each student, the admin made a mistake o \n",
    " keeping the “id” key at the end of each record. You have t \r\n",
    " responsibility of restructuring the record, bringing the “id”  y\r\n",
    " at the beginning of the recor\n",
    " d.\r\n",
    " [{'name': 'Divyansh Dhawan', 'marks': 89, 'state': 'Karnataka',\r\n",
    " 'id': 508},\r\n",
    " {'name': 'Vedika Handa', 'marks': 67, 'state': 'Bihar', 'id':\r\n",
    " 740},\r\n",
    " {'name': 'Aaina Halder', 'marks': 80, 'state': 'Chhattisgarh',\r\n",
    " 'id': 748},\r\n",
    " {'name': 'Veer Dhillon', 'marks': 92, 'state': 'Bihar', 'id':\r\n",
    " 460},\r\n",
    " {'name': 'Yasmin Dora', 'marks': 74, 'state': 'Uttarakhand',\r\n",
    " 'id': 630},\r\n",
    " {'name': 'Lagan Dutt', 'marks': 91, 'state': 'Kerala', 'id':\r\n",
    " 707},\r\n",
    " {'name': 'Nitara Dash', 'marks': 71, 'state': 'Assam', 'id':\r\n",
    " 178},\r\n",
    " {'name': 'Hunar Kari', 'marks': 71, 'state': 'Bihar', 'id':\r\n",
    " 238},\r\n",
    " {'name': 'Mehul Issac', 'marks': 66, 'state': 'Maharashtra',\r\n",
    " 'id': 654},\r\n",
    " {'name': 'Aarush Seshadri', 'marks': 72, 'state':\r\n",
    " 'Chh\n",
    " ttisgarh'\n",
    " , 'id': 875}]\r\n",
    " EXAMPLE\r\n",
    " #For example, say the wrong record is as follows:\r\n",
    " {'name': 'Tiya Barad', 'marks': 95, 'state': 'Arunachal\r\n",
    " Pradesh', 'id': 636}\r\n",
    " #The correct version will be\r\n",
    " {'id': 636,'name': 'Tiya Barad', 'marks': 95, 'state':\r\n",
    " 'Arunachal Pradesh'}"
   ]
  },
  {
   "cell_type": "code",
   "execution_count": 39,
   "id": "e3bc801d-d229-41a8-bf29-089ced3bebfa",
   "metadata": {},
   "outputs": [],
   "source": [
    "student_records = [{'name': 'Divyansh Dhawan', 'marks': 89, 'state': 'Karnataka', 'id': 508},\n",
    "    {'name': 'Vedika Handa', 'marks': 67, 'state': 'Bihar', 'id': 740},\n",
    "    {'name': 'Aaina Halder', 'marks': 80, 'state': 'Chhattisgarh', 'id': 748},\n",
    "    {'name': 'Veer Dhillon', 'marks': 92, 'state': 'Bihar', 'id': 460},\n",
    "    {'name': 'Yasmin Dora', 'marks': 74, 'state': 'Uttarakhand', 'id': 630},\n",
    "    {'name': 'Lagan Dutt', 'marks': 91, 'state': 'Kerala', 'id': 707},\n",
    "    {'name': 'Nitara Dash', 'marks': 71, 'state': 'Assam', 'id': 178},\n",
    "    {'name': 'Hunar Kari', 'marks': 71, 'state': 'Bihar', 'id': 238},\n",
    "    {'name': 'Mehul Issac', 'marks': 66, 'state': 'Maharashtra', 'id': 654},\n",
    "    {'name': 'Aarush Seshadri', 'marks': 72, 'state': 'Chhattisgarh', 'id': 875}]"
   ]
  },
  {
   "cell_type": "code",
   "execution_count": 40,
   "id": "c4844f73-7959-40bf-ac6a-2a846d77f5da",
   "metadata": {},
   "outputs": [],
   "source": [
    "restructured_records = [{'id': record['id'], 'name': record['name'], 'marks': record['marks'], 'state': record['state']}\n",
    "for record in student_records\n",
    "]"
   ]
  },
  {
   "cell_type": "code",
   "execution_count": 41,
   "id": "338af3e8-970c-4027-9255-e871c1d9eff2",
   "metadata": {},
   "outputs": [
    {
     "name": "stdout",
     "output_type": "stream",
     "text": [
      "[{'id': 508, 'name': 'Divyansh Dhawan', 'marks': 89, 'state': 'Karnataka'}, {'id': 740, 'name': 'Vedika Handa', 'marks': 67, 'state': 'Bihar'}, {'id': 748, 'name': 'Aaina Halder', 'marks': 80, 'state': 'Chhattisgarh'}, {'id': 460, 'name': 'Veer Dhillon', 'marks': 92, 'state': 'Bihar'}, {'id': 630, 'name': 'Yasmin Dora', 'marks': 74, 'state': 'Uttarakhand'}, {'id': 707, 'name': 'Lagan Dutt', 'marks': 91, 'state': 'Kerala'}, {'id': 178, 'name': 'Nitara Dash', 'marks': 71, 'state': 'Assam'}, {'id': 238, 'name': 'Hunar Kari', 'marks': 71, 'state': 'Bihar'}, {'id': 654, 'name': 'Mehul Issac', 'marks': 66, 'state': 'Maharashtra'}, {'id': 875, 'name': 'Aarush Seshadri', 'marks': 72, 'state': 'Chhattisgarh'}]\n"
     ]
    }
   ],
   "source": [
    "print(restructured_records)"
   ]
  },
  {
   "cell_type": "markdown",
   "id": "99b26383-7161-4b73-87cc-356e11578655",
   "metadata": {},
   "source": [
    "## 5. Working with the above records, store the record of the students\n",
    " who have scored marks equal to or above 80 in a new list name\r\n",
    " “top_students”\n",
    "[{'name': 'Divyansh Dhawan', 'marks': 89, 'state': 'Karnataka',\r\n",
    " 'id': 508},\r\n",
    " {'name': 'Vedika Handa', 'marks': 67, 'state': 'Bihar', 'id':\r\n",
    " 740},\r\n",
    " {'name': 'Aaina Halder', 'marks': 80, 'state': 'Chhattisgarh',\r\n",
    " 'id': 748},\r\n",
    " {'name': 'Veer Dhillon', 'marks': 92, 'state': 'Bihar', 'id':\r\n",
    " 460},\r\n",
    " {'name': 'Yasmin Dora', 'marks': 74, 'state': 'Uttarakhand',\r\n",
    " 'id': 630},\r\n",
    " {'name': 'Lagan Dutt', 'marks': 91, 'state': 'Kerala', 'id':\r\n",
    " 707},\r\n",
    " {'name': 'Nitara Dash', 'marks': 71, 'state': 'Assam', 'id':\r\n",
    " 178},\r\n",
    " {'name': 'Hunar Kari', 'marks': 71, 'state': 'Bihar', 'id':\r\n",
    " 238},\r\n",
    " {'name': 'Mehul Issac', 'marks': 66, 'state': 'Maharashtra',\r\n",
    " 'id': 654},\r\n",
    " {'name': 'Aarush Seshadri', 'marks': 72, 'state':\r\n",
    " 'Chhattisgarh', 'id': 875}]. "
   ]
  },
  {
   "cell_type": "code",
   "execution_count": 44,
   "id": "37a37b27-135a-43df-b17c-6dc64b73b5b1",
   "metadata": {},
   "outputs": [],
   "source": [
    "student_records = [{'name': 'Divyansh Dhawan', 'marks': 89, 'state': 'Karnataka', 'id': 508},\n",
    "    {'name': 'Vedika Handa', 'marks': 67, 'state': 'Bihar', 'id': 740},\n",
    "    {'name': 'Aaina Halder', 'marks': 80, 'state': 'Chhattisgarh', 'id': 748},\n",
    "    {'name': 'Veer Dhillon', 'marks': 92, 'state': 'Bihar', 'id': 460},\n",
    "    {'name': 'Yasmin Dora', 'marks': 74, 'state': 'Uttarakhand', 'id': 630},\n",
    "    {'name': 'Lagan Dutt', 'marks': 91, 'state': 'Kerala', 'id': 707},\n",
    "    {'name': 'Nitara Dash', 'marks': 71, 'state': 'Assam', 'id': 178},\n",
    "    {'name': 'Hunar Kari', 'marks': 71, 'state': 'Bihar', 'id': 238},\n",
    "    {'name': 'Mehul Issac', 'marks': 66, 'state': 'Maharashtra', 'id': 654},\n",
    "    {'name': 'Aarush Seshadri', 'marks': 72, 'state': 'Chhattisgarh', 'id': 875}]"
   ]
  },
  {
   "cell_type": "code",
   "execution_count": 46,
   "id": "a776738a-f4d0-4099-838c-17f88687a92d",
   "metadata": {},
   "outputs": [],
   "source": [
    "top_students = [record for record in student_records if record['marks'] >= 80]"
   ]
  },
  {
   "cell_type": "code",
   "execution_count": 47,
   "id": "c76bde09-a2f7-4083-bfb9-830294a3176c",
   "metadata": {},
   "outputs": [
    {
     "name": "stdout",
     "output_type": "stream",
     "text": [
      "[{'name': 'Divyansh Dhawan', 'marks': 89, 'state': 'Karnataka', 'id': 508}, {'name': 'Aaina Halder', 'marks': 80, 'state': 'Chhattisgarh', 'id': 748}, {'name': 'Veer Dhillon', 'marks': 92, 'state': 'Bihar', 'id': 460}, {'name': 'Lagan Dutt', 'marks': 91, 'state': 'Kerala', 'id': 707}]\n"
     ]
    }
   ],
   "source": [
    "print(top_students)"
   ]
  }
 ],
 "metadata": {
  "kernelspec": {
   "display_name": "Python 3 (ipykernel)",
   "language": "python",
   "name": "python3"
  },
  "language_info": {
   "codemirror_mode": {
    "name": "ipython",
    "version": 3
   },
   "file_extension": ".py",
   "mimetype": "text/x-python",
   "name": "python",
   "nbconvert_exporter": "python",
   "pygments_lexer": "ipython3",
   "version": "3.11.7"
  },
  "widgets": {
   "application/vnd.jupyter.widget-state+json": {
    "state": {},
    "version_major": 2,
    "version_minor": 0
   }
  }
 },
 "nbformat": 4,
 "nbformat_minor": 5
}
